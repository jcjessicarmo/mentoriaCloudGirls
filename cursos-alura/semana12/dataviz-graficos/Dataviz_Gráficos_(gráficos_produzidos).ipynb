{
  "nbformat": 4,
  "nbformat_minor": 0,
  "metadata": {
    "colab": {
      "provenance": [],
      "authorship_tag": "ABX9TyNgonIgnmyXF5gr6Q7Ufz5Q",
      "include_colab_link": true
    },
    "kernelspec": {
      "name": "python3",
      "display_name": "Python 3"
    },
    "language_info": {
      "name": "python"
    }
  },
  "cells": [
    {
      "cell_type": "markdown",
      "metadata": {
        "id": "view-in-github",
        "colab_type": "text"
      },
      "source": [
        "<a href=\"https://colab.research.google.com/github/afonsosr2/dataviz-graficos/blob/master/Dataviz_Gr%C3%A1ficos_(gr%C3%A1ficos_produzidos).ipynb\" target=\"_parent\"><img src=\"https://colab.research.google.com/assets/colab-badge.svg\" alt=\"Open In Colab\"/></a>"
      ]
    },
    {
      "cell_type": "markdown",
      "source": [
        "# **Gráficos de Comparação**\n",
        "\n",
        "\n"
      ],
      "metadata": {
        "id": "UHgmGgEbNbBl"
      }
    },
    {
      "cell_type": "markdown",
      "source": [
        "## **Gráfico de colunas**"
      ],
      "metadata": {
        "id": "QG9-klVCNkXk"
      }
    },
    {
      "cell_type": "markdown",
      "source": [
        "![Gráfico de colunas](https://github.com/afonsosr2/dataviz-graficos/blob/6c423159a4cb3159c6c473742a55980685101bf4/imagens/Tipos_Graficos/graficos/grafico_colunas_destaque.png?raw=true)"
      ],
      "metadata": {
        "id": "bRV2wx5KSBcE"
      }
    },
    {
      "cell_type": "markdown",
      "source": [
        "## **Gráfico de barras**"
      ],
      "metadata": {
        "id": "j-EyEJ2pNkUu"
      }
    },
    {
      "cell_type": "markdown",
      "source": [
        "![](https://github.com/afonsosr2/dataviz-graficos/blob/master/imagens/Tipos_Graficos/graficos/grafico_barras_texto_explicativo.png?raw=true)"
      ],
      "metadata": {
        "id": "bUfFR9vaNkR8"
      }
    },
    {
      "cell_type": "markdown",
      "source": [
        "## **Gráfico de colunas empilhadas**"
      ],
      "metadata": {
        "id": "QqsH4dcFNkPf"
      }
    },
    {
      "cell_type": "markdown",
      "source": [
        "![](https://github.com/afonsosr2/dataviz-graficos/blob/master/imagens/Tipos_Graficos/graficos/grafico_colunas_empilhadas_rotulos.png?raw=true)"
      ],
      "metadata": {
        "id": "AsG-xJ0KUbdE"
      }
    },
    {
      "cell_type": "markdown",
      "source": [
        "## **Gráfico de barras empilhadas**"
      ],
      "metadata": {
        "id": "Yv-kHhJnNkMc"
      }
    },
    {
      "cell_type": "markdown",
      "source": [
        "![](https://github.com/afonsosr2/dataviz-graficos/blob/master/imagens/Tipos_Graficos/graficos/grafico_barras_empilhadas_absolutas_relativas.png?raw=true)"
      ],
      "metadata": {
        "id": "J3aETDpuUcMU"
      }
    },
    {
      "cell_type": "markdown",
      "source": [
        "## **Gráfico de linha**"
      ],
      "metadata": {
        "id": "1t6QivMmNkJs"
      }
    },
    {
      "cell_type": "markdown",
      "source": [
        "![](https://github.com/afonsosr2/dataviz-graficos/blob/master/imagens/Tipos_Graficos/graficos/grafico_linha_tempo_definido.png?raw=true)"
      ],
      "metadata": {
        "id": "AObFqzNqUcpM"
      }
    },
    {
      "cell_type": "markdown",
      "source": [
        "## **Gráfico de Linhas**"
      ],
      "metadata": {
        "id": "6zyarJVcNkG9"
      }
    },
    {
      "cell_type": "markdown",
      "source": [
        "![](https://github.com/afonsosr2/dataviz-graficos/blob/master/imagens/Tipos_Graficos/graficos/grafico_linhas.png?raw=true)"
      ],
      "metadata": {
        "id": "qnZF8pHkUdOc"
      }
    },
    {
      "cell_type": "markdown",
      "source": [
        "# **Gráficos de Distribuição**"
      ],
      "metadata": {
        "id": "C7nMKiZLKX3A"
      }
    },
    {
      "cell_type": "markdown",
      "source": [
        "## **Histogramas e gráficos de densidade**"
      ],
      "metadata": {
        "id": "9ts_XKkZUImZ"
      }
    },
    {
      "cell_type": "markdown",
      "source": [
        "### **Histograma**"
      ],
      "metadata": {
        "id": "nkKLOQ_qV8xN"
      }
    },
    {
      "cell_type": "markdown",
      "source": [
        "![](https://github.com/afonsosr2/dataviz-graficos/blob/master/imagens/Tipos_Graficos/graficos/histograma.png?raw=true)"
      ],
      "metadata": {
        "id": "4bXdZHSTUeJt"
      }
    },
    {
      "cell_type": "markdown",
      "source": [
        "### **Gráfico de densidade**"
      ],
      "metadata": {
        "id": "uPEGU38-V_oV"
      }
    },
    {
      "cell_type": "markdown",
      "source": [
        "![](https://github.com/afonsosr2/dataviz-graficos/blob/master/imagens/Tipos_Graficos/graficos/grafico_densidade_medidas_tendencia_central.png?raw=true)"
      ],
      "metadata": {
        "id": "XIoNKspSUd1G"
      }
    },
    {
      "cell_type": "markdown",
      "source": [
        "## **Boxplot**"
      ],
      "metadata": {
        "id": "ckFjf-ItUIjh"
      }
    },
    {
      "cell_type": "markdown",
      "source": [
        "![](https://github.com/afonsosr2/dataviz-graficos/blob/master/imagens/Tipos_Graficos/graficos/boxplot.png?raw=true)"
      ],
      "metadata": {
        "id": "m7Tcdpl5UeuF"
      }
    },
    {
      "cell_type": "markdown",
      "source": [
        "## **Violinplot**"
      ],
      "metadata": {
        "id": "HjVtccW5UIg5"
      }
    },
    {
      "cell_type": "markdown",
      "source": [
        "![](https://github.com/afonsosr2/dataviz-graficos/blob/master/imagens/Tipos_Graficos/graficos/violinplot.png?raw=true)"
      ],
      "metadata": {
        "id": "bMt09yGTUfKO"
      }
    },
    {
      "cell_type": "markdown",
      "source": [
        "## **Gráfico de dispersão**"
      ],
      "metadata": {
        "id": "PylTP8w0UIeh"
      }
    },
    {
      "cell_type": "markdown",
      "source": [
        "![](https://github.com/afonsosr2/dataviz-graficos/blob/master/imagens/Tipos_Graficos/graficos/grafico_dispersao_mapeamento_cores.png?raw=true)"
      ],
      "metadata": {
        "id": "pgSsEymLUfiV"
      }
    }
  ]
}